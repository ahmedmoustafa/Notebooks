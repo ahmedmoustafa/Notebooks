{
  "nbformat": 4,
  "nbformat_minor": 0,
  "metadata": {
    "kernelspec": {
      "display_name": "R",
      "language": "R",
      "name": "ir"
    },
    "language_info": {
      "codemirror_mode": "r",
      "file_extension": ".r",
      "mimetype": "text/x-r-source",
      "name": "R",
      "pygments_lexer": "r",
      "version": "3.3.1"
    },
    "colab": {
      "name": "Happiness",
      "provenance": [],
      "collapsed_sections": [],
      "include_colab_link": true
    }
  },
  "cells": [
    {
      "cell_type": "markdown",
      "metadata": {
        "id": "view-in-github",
        "colab_type": "text"
      },
      "source": [
        "<a href=\"https://colab.research.google.com/github/ahmedmoustafa/Notebooks/blob/master/Happiness.ipynb\" target=\"_parent\"><img src=\"https://colab.research.google.com/assets/colab-badge.svg\" alt=\"Open In Colab\"/></a>"
      ]
    },
    {
      "cell_type": "markdown",
      "metadata": {
        "id": "7G9n7ivlqpYU"
      },
      "source": [
        "# Happiness\n",
        "---"
      ]
    },
    {
      "cell_type": "code",
      "metadata": {
        "id": "_TiXy1LRVKCc",
        "colab": {
          "base_uri": "https://localhost:8080/"
        },
        "outputId": "27578510-da29-443b-ec3c-084dd275737b"
      },
      "source": [
        "library(tidyverse)"
      ],
      "execution_count": 1,
      "outputs": [
        {
          "output_type": "stream",
          "text": [
            "Warning message in system(\"timedatectl\", intern = TRUE):\n",
            "“running command 'timedatectl' had status 1”\n",
            "── \u001b[1mAttaching packages\u001b[22m ─────────────────────────────────────── tidyverse 1.3.1 ──\n",
            "\n",
            "\u001b[32m✔\u001b[39m \u001b[34mggplot2\u001b[39m 3.3.3     \u001b[32m✔\u001b[39m \u001b[34mpurrr  \u001b[39m 0.3.4\n",
            "\u001b[32m✔\u001b[39m \u001b[34mtibble \u001b[39m 3.1.1     \u001b[32m✔\u001b[39m \u001b[34mdplyr  \u001b[39m 1.0.5\n",
            "\u001b[32m✔\u001b[39m \u001b[34mtidyr  \u001b[39m 1.1.3     \u001b[32m✔\u001b[39m \u001b[34mstringr\u001b[39m 1.4.0\n",
            "\u001b[32m✔\u001b[39m \u001b[34mreadr  \u001b[39m 1.4.0     \u001b[32m✔\u001b[39m \u001b[34mforcats\u001b[39m 0.5.1\n",
            "\n",
            "── \u001b[1mConflicts\u001b[22m ────────────────────────────────────────── tidyverse_conflicts() ──\n",
            "\u001b[31m✖\u001b[39m \u001b[34mdplyr\u001b[39m::\u001b[32mfilter()\u001b[39m masks \u001b[34mstats\u001b[39m::filter()\n",
            "\u001b[31m✖\u001b[39m \u001b[34mdplyr\u001b[39m::\u001b[32mlag()\u001b[39m    masks \u001b[34mstats\u001b[39m::lag()\n",
            "\n"
          ],
          "name": "stderr"
        }
      ]
    },
    {
      "cell_type": "code",
      "metadata": {
        "id": "1jEz8SRhVMK6",
        "colab": {
          "base_uri": "https://localhost:8080/"
        },
        "outputId": "24f4e9c9-ab94-4817-e4d8-07b3636a5814"
      },
      "source": [
        "data = read_tsv(\"https://raw.githubusercontent.com/ahmedmoustafa/Notebooks/master/Happiness/happiness2019.tsv\")\n",
        "glimpse(data)\n"
      ],
      "execution_count": 2,
      "outputs": [
        {
          "output_type": "stream",
          "text": [
            "\n",
            "\u001b[36m──\u001b[39m \u001b[1m\u001b[1mColumn specification\u001b[1m\u001b[22m \u001b[36m────────────────────────────────────────────────────────\u001b[39m\n",
            "cols(\n",
            "  country = \u001b[31mcol_character()\u001b[39m,\n",
            "  category = \u001b[31mcol_character()\u001b[39m,\n",
            "  score = \u001b[32mcol_double()\u001b[39m,\n",
            "  gdp_per_capita = \u001b[32mcol_double()\u001b[39m,\n",
            "  social_support = \u001b[32mcol_double()\u001b[39m,\n",
            "  healthy_life_expectancy = \u001b[32mcol_double()\u001b[39m,\n",
            "  freedom_to_make_life_choices = \u001b[32mcol_double()\u001b[39m,\n",
            "  generosity = \u001b[32mcol_double()\u001b[39m,\n",
            "  perceptions_of_corruption = \u001b[32mcol_double()\u001b[39m\n",
            ")\n",
            "\n",
            "\n"
          ],
          "name": "stderr"
        },
        {
          "output_type": "stream",
          "text": [
            "Rows: 155\n",
            "Columns: 9\n",
            "$ country                      \u001b[3m\u001b[90m<chr>\u001b[39m\u001b[23m \"Finland\", \"Denmark\", \"Norway\", \"Iceland\"…\n",
            "$ category                     \u001b[3m\u001b[90m<chr>\u001b[39m\u001b[23m \"Developed\", \"Developed\", \"Developed\", \"D…\n",
            "$ score                        \u001b[3m\u001b[90m<dbl>\u001b[39m\u001b[23m 7.769, 7.600, 7.554, 7.494, 7.488, 7.480,…\n",
            "$ gdp_per_capita               \u001b[3m\u001b[90m<dbl>\u001b[39m\u001b[23m 1.340, 1.383, 1.488, 1.380, 1.396, 1.452,…\n",
            "$ social_support               \u001b[3m\u001b[90m<dbl>\u001b[39m\u001b[23m 1.587, 1.573, 1.582, 1.624, 1.522, 1.526,…\n",
            "$ healthy_life_expectancy      \u001b[3m\u001b[90m<dbl>\u001b[39m\u001b[23m 0.986, 0.996, 1.028, 1.026, 0.999, 1.052,…\n",
            "$ freedom_to_make_life_choices \u001b[3m\u001b[90m<dbl>\u001b[39m\u001b[23m 0.596, 0.592, 0.603, 0.591, 0.557, 0.572,…\n",
            "$ generosity                   \u001b[3m\u001b[90m<dbl>\u001b[39m\u001b[23m 0.153, 0.252, 0.271, 0.354, 0.322, 0.263,…\n",
            "$ perceptions_of_corruption    \u001b[3m\u001b[90m<dbl>\u001b[39m\u001b[23m 0.393, 0.410, 0.341, 0.118, 0.298, 0.343,…\n"
          ],
          "name": "stdout"
        }
      ]
    },
    {
      "cell_type": "code",
      "metadata": {
        "id": "275O4mKM4x1J"
      },
      "source": [
        ""
      ],
      "execution_count": 3,
      "outputs": []
    }
  ]
}