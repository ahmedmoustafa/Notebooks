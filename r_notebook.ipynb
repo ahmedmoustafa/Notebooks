{
  "nbformat": 4,
  "nbformat_minor": 0,
  "metadata": {
    "colab": {
      "provenance": [],
      "authorship_tag": "ABX9TyM7j1bTwdwm36VTLSrQGIU/",
      "include_colab_link": true
    },
    "kernelspec": {
      "name": "ir",
      "display_name": "R"
    },
    "language_info": {
      "name": "R"
    }
  },
  "cells": [
    {
      "cell_type": "markdown",
      "metadata": {
        "id": "view-in-github",
        "colab_type": "text"
      },
      "source": [
        "<a href=\"https://colab.research.google.com/github/ahmedmoustafa/Notebooks/blob/main/r_notebook.ipynb\" target=\"_parent\"><img src=\"https://colab.research.google.com/assets/colab-badge.svg\" alt=\"Open In Colab\"/></a>"
      ]
    },
    {
      "cell_type": "markdown",
      "source": [
        "# R Notebook"
      ],
      "metadata": {
        "id": "9L_XiktP2k8x"
      }
    },
    {
      "cell_type": "code",
      "execution_count": 1,
      "metadata": {
        "colab": {
          "base_uri": "https://localhost:8080/",
          "height": 34
        },
        "id": "NXnnwBmO1L2v",
        "outputId": "04f96772-257f-4e39-f908-d336e22c3a16"
      },
      "outputs": [
        {
          "output_type": "display_data",
          "data": {
            "text/html": [
              "2"
            ],
            "text/markdown": "2",
            "text/latex": "2",
            "text/plain": [
              "[1] 2"
            ]
          },
          "metadata": {}
        }
      ],
      "source": [
        "1 + 1"
      ]
    },
    {
      "cell_type": "code",
      "source": [
        "x = rnorm(100000, 0, 1)\n",
        "head(x)"
      ],
      "metadata": {
        "colab": {
          "base_uri": "https://localhost:8080/",
          "height": 34
        },
        "id": "9lyY_CS-1TJ-",
        "outputId": "f3da3499-26c3-4dcc-971d-64f94d76be3c"
      },
      "execution_count": 7,
      "outputs": [
        {
          "output_type": "display_data",
          "data": {
            "text/html": [
              "<style>\n",
              ".list-inline {list-style: none; margin:0; padding: 0}\n",
              ".list-inline>li {display: inline-block}\n",
              ".list-inline>li:not(:last-child)::after {content: \"\\00b7\"; padding: 0 .5ex}\n",
              "</style>\n",
              "<ol class=list-inline><li>-1.21668075999988</li><li>1.46785704135263</li><li>2.09425418556824</li><li>1.38413749429001</li><li>0.307432762124115</li><li>-0.728360117989135</li></ol>\n"
            ],
            "text/markdown": "1. -1.21668075999988\n2. 1.46785704135263\n3. 2.09425418556824\n4. 1.38413749429001\n5. 0.307432762124115\n6. -0.728360117989135\n\n\n",
            "text/latex": "\\begin{enumerate*}\n\\item -1.21668075999988\n\\item 1.46785704135263\n\\item 2.09425418556824\n\\item 1.38413749429001\n\\item 0.307432762124115\n\\item -0.728360117989135\n\\end{enumerate*}\n",
            "text/plain": [
              "[1] -1.2166808  1.4678570  2.0942542  1.3841375  0.3074328 -0.7283601"
            ]
          },
          "metadata": {}
        }
      ]
    },
    {
      "cell_type": "code",
      "source": [
        "hist(x)"
      ],
      "metadata": {
        "colab": {
          "base_uri": "https://localhost:8080/",
          "height": 437
        },
        "id": "hfZYwqHV1kxZ",
        "outputId": "b7e52fee-2b83-4010-b997-897b45642f05"
      },
      "execution_count": 8,
      "outputs": [
        {
          "output_type": "display_data",
          "data": {
            "text/plain": [
              "Plot with title “Histogram of x”"
            ],
            "image/png": "[encoded data removed]"
          },
          "metadata": {
            "image/png": {
              "width": 420,
              "height": 420
            }
          }
        }
      ]
    },
    {
      "cell_type": "code",
      "source": [
        "length(x)"
      ],
      "metadata": {
        "colab": {
          "base_uri": "https://localhost:8080/",
          "height": 34
        },
        "id": "JA-3mvUj2EaH",
        "outputId": "61a51f75-b1fb-45e8-c318-9e7e1c4f1742"
      },
      "execution_count": 10,
      "outputs": [
        {
          "output_type": "display_data",
          "data": {
            "text/html": [
              "100000"
            ],
            "text/markdown": "100000",
            "text/latex": "100000",
            "text/plain": [
              "[1] 100000"
            ]
          },
          "metadata": {}
        }
      ]
    },
    {
      "cell_type": "code",
      "source": [
        "mean(x)"
      ],
      "metadata": {
        "colab": {
          "base_uri": "https://localhost:8080/",
          "height": 34
        },
        "id": "XLIe2rSA2WXs",
        "outputId": "d1a14a99-e0e9-4c9b-e7e7-b06fa7b6e51e"
      },
      "execution_count": 11,
      "outputs": [
        {
          "output_type": "display_data",
          "data": {
            "text/html": [
              "-0.00017738247156153"
            ],
            "text/markdown": "-0.00017738247156153",
            "text/latex": "-0.00017738247156153",
            "text/plain": [
              "[1] -0.0001773825"
            ]
          },
          "metadata": {}
        }
      ]
    },
    {
      "cell_type": "code",
      "source": [
        "sd(x)"
      ],
      "metadata": {
        "colab": {
          "base_uri": "https://localhost:8080/",
          "height": 34
        },
        "id": "8mVDShj52aUE",
        "outputId": "a5cb1632-8dc7-4489-a6ee-f38334b60e88"
      },
      "execution_count": 12,
      "outputs": [
        {
          "output_type": "display_data",
          "data": {
            "text/html": [
              "1.00324648172719"
            ],
            "text/markdown": "1.00324648172719",
            "text/latex": "1.00324648172719",
            "text/plain": [
              "[1] 1.003246"
            ]
          },
          "metadata": {}
        }
      ]
    },
    {
      "cell_type": "code",
      "source": [],
      "metadata": {
        "id": "MlUKPxbA2eIR"
      },
      "execution_count": null,
      "outputs": []
    },
    {
      "cell_type": "markdown",
      "source": [],
      "metadata": {
        "id": "UAw8Wy9P2kJb"
      }
    }
  ]
}