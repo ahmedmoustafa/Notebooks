{
  "nbformat": 4,
  "nbformat_minor": 0,
  "metadata": {
    "kernelspec": {
      "display_name": "R",
      "language": "R",
      "name": "ir"
    },
    "language_info": {
      "codemirror_mode": "r",
      "file_extension": ".r",
      "mimetype": "text/x-r-source",
      "name": "R",
      "pygments_lexer": "r",
      "version": "3.3.1"
    },
    "colab": {
      "name": "Exercise 3",
      "provenance": [],
      "collapsed_sections": [],
      "include_colab_link": true
    }
  },
  "cells": [
    {
      "cell_type": "markdown",
      "metadata": {
        "id": "view-in-github",
        "colab_type": "text"
      },
      "source": [
        "<a href=\"https://colab.research.google.com/github/ahmedmoustafa/Notebooks/blob/main/misc/Exercise_3.ipynb\" target=\"_parent\"><img src=\"https://colab.research.google.com/assets/colab-badge.svg\" alt=\"Open In Colab\"/></a>"
      ]
    },
    {
      "cell_type": "markdown",
      "metadata": {
        "id": "7G9n7ivlqpYU"
      },
      "source": [
        "# Exercise 3\n",
        "---"
      ]
    },
    {
      "cell_type": "code",
      "metadata": {
        "id": "qaNCoQxacpfJ",
        "colab": {
          "base_uri": "https://localhost:8080/"
        },
        "outputId": "debcc03a-5174-4728-d95b-c55d32fe4e7d"
      },
      "source": [
        "library(tidyverse)"
      ],
      "execution_count": 1,
      "outputs": [
        {
          "output_type": "stream",
          "name": "stderr",
          "text": [
            "Warning message in system(\"timedatectl\", intern = TRUE):\n",
            "“running command 'timedatectl' had status 1”\n",
            "── \u001b[1mAttaching packages\u001b[22m ─────────────────────────────────────── tidyverse 1.3.1 ──\n",
            "\n",
            "\u001b[32m✔\u001b[39m \u001b[34mggplot2\u001b[39m 3.3.5     \u001b[32m✔\u001b[39m \u001b[34mpurrr  \u001b[39m 0.3.4\n",
            "\u001b[32m✔\u001b[39m \u001b[34mtibble \u001b[39m 3.1.5     \u001b[32m✔\u001b[39m \u001b[34mdplyr  \u001b[39m 1.0.7\n",
            "\u001b[32m✔\u001b[39m \u001b[34mtidyr  \u001b[39m 1.1.4     \u001b[32m✔\u001b[39m \u001b[34mstringr\u001b[39m 1.4.0\n",
            "\u001b[32m✔\u001b[39m \u001b[34mreadr  \u001b[39m 2.0.2     \u001b[32m✔\u001b[39m \u001b[34mforcats\u001b[39m 0.5.1\n",
            "\n",
            "── \u001b[1mConflicts\u001b[22m ────────────────────────────────────────── tidyverse_conflicts() ──\n",
            "\u001b[31m✖\u001b[39m \u001b[34mdplyr\u001b[39m::\u001b[32mfilter()\u001b[39m masks \u001b[34mstats\u001b[39m::filter()\n",
            "\u001b[31m✖\u001b[39m \u001b[34mdplyr\u001b[39m::\u001b[32mlag()\u001b[39m    masks \u001b[34mstats\u001b[39m::lag()\n",
            "\n"
          ]
        }
      ]
    },
    {
      "cell_type": "code",
      "metadata": {
        "colab": {
          "base_uri": "https://localhost:8080/"
        },
        "id": "N4DX_lNnmelD",
        "outputId": "ea686ded-01ef-454d-a48c-84843b4f224d"
      },
      "source": [
        "data = read_csv(\"https://raw.githubusercontent.com/ahmedmoustafa/Notebooks/main/misc/sickness_absence_county.csv\")"
      ],
      "execution_count": 2,
      "outputs": [
        {
          "output_type": "stream",
          "name": "stderr",
          "text": [
            "\u001b[1m\u001b[1mRows: \u001b[1m\u001b[22m\u001b[34m\u001b[34m576\u001b[34m\u001b[39m \u001b[1m\u001b[1mColumns: \u001b[1m\u001b[22m\u001b[34m\u001b[34m22\u001b[34m\u001b[39m\n",
            "\n",
            "\u001b[36m──\u001b[39m \u001b[1m\u001b[1mColumn specification\u001b[1m\u001b[22m \u001b[36m────────────────────────────────────────────────────────\u001b[39m\n",
            "\u001b[1mDelimiter:\u001b[22m \",\"\n",
            "\u001b[31mchr\u001b[39m  (2): fnavn, year_q\n",
            "\u001b[32mdbl\u001b[39m (20): fnr, sick_pct, pop, agegroup0_share, agegroup10_share, agegroup20_...\n",
            "\n",
            "\n",
            "\u001b[36mℹ\u001b[39m Use \u001b[30m\u001b[47m\u001b[30m\u001b[47m`spec()`\u001b[47m\u001b[30m\u001b[49m\u001b[39m to retrieve the full column specification for this data.\n",
            "\u001b[36mℹ\u001b[39m Specify the column types or set \u001b[30m\u001b[47m\u001b[30m\u001b[47m`show_col_types = FALSE`\u001b[47m\u001b[30m\u001b[49m\u001b[39m to quiet this message.\n",
            "\n"
          ]
        }
      ]
    },
    {
      "cell_type": "code",
      "metadata": {
        "colab": {
          "base_uri": "https://localhost:8080/"
        },
        "id": "q9p2q1WXmmAh",
        "outputId": "e7b76462-c526-4842-fc7b-26e7543aed70"
      },
      "source": [
        "glimpse(data)"
      ],
      "execution_count": 3,
      "outputs": [
        {
          "output_type": "stream",
          "name": "stdout",
          "text": [
            "Rows: 576\n",
            "Columns: 22\n",
            "$ fnr                      \u001b[3m\u001b[90m<dbl>\u001b[39m\u001b[23m 1, 1, 1, 1, 1, 1, 1, 1, 1, 1, 1, 1, 1, 1, 1, …\n",
            "$ fnavn                    \u001b[3m\u001b[90m<chr>\u001b[39m\u001b[23m \"Østfold\", \"Østfold\", \"Østfold\", \"Østfold\", \"…\n",
            "$ sick_pct                 \u001b[3m\u001b[90m<dbl>\u001b[39m\u001b[23m 7.2, 7.0, 7.4, 6.9, 7.4, 7.4, 8.1, 7.5, 6.8, …\n",
            "$ year_q                   \u001b[3m\u001b[90m<chr>\u001b[39m\u001b[23m \"2008q1\", \"2008q2\", \"2008q3\", \"2008q4\", \"2009…\n",
            "$ pop                      \u001b[3m\u001b[90m<dbl>\u001b[39m\u001b[23m 265458, 265458, 265458, 265458, 268584, 26858…\n",
            "$ agegroup0_share          \u001b[3m\u001b[90m<dbl>\u001b[39m\u001b[23m 0.1191601, 0.1191601, 0.1191601, 0.1191601, 0…\n",
            "$ agegroup10_share         \u001b[3m\u001b[90m<dbl>\u001b[39m\u001b[23m 0.1319983, 0.1319983, 0.1319983, 0.1319983, 0…\n",
            "$ agegroup20_share         \u001b[3m\u001b[90m<dbl>\u001b[39m\u001b[23m 0.1078174, 0.1078174, 0.1078174, 0.1078174, 0…\n",
            "$ agegroup30_share         \u001b[3m\u001b[90m<dbl>\u001b[39m\u001b[23m 0.1385869, 0.1385869, 0.1385869, 0.1385869, 0…\n",
            "$ agegroup40_share         \u001b[3m\u001b[90m<dbl>\u001b[39m\u001b[23m 0.1445012, 0.1445012, 0.1445012, 0.1445012, 0…\n",
            "$ agegroup50_share         \u001b[3m\u001b[90m<dbl>\u001b[39m\u001b[23m 0.1327781, 0.1327781, 0.1327781, 0.1327781, 0…\n",
            "$ agegroup60_share         \u001b[3m\u001b[90m<dbl>\u001b[39m\u001b[23m 0.1088571, 0.1088571, 0.1088571, 0.1088571, 0…\n",
            "$ agegroup70_share         \u001b[3m\u001b[90m<dbl>\u001b[39m\u001b[23m 0.06781487, 0.06781487, 0.06781487, 0.0678148…\n",
            "$ agegroup80_share         \u001b[3m\u001b[90m<dbl>\u001b[39m\u001b[23m 0.04149055, 0.04149055, 0.04149055, 0.0414905…\n",
            "$ agegroup90_share         \u001b[3m\u001b[90m<dbl>\u001b[39m\u001b[23m 0.006995457, 0.006995457, 0.006995457, 0.0069…\n",
            "$ age_avg                  \u001b[3m\u001b[90m<dbl>\u001b[39m\u001b[23m 39.67712, 39.67712, 39.67712, 39.67712, 39.75…\n",
            "$ uniwork_share            \u001b[3m\u001b[90m<dbl>\u001b[39m\u001b[23m 0.2426988, 0.2426988, 0.2426988, 0.2426988, 0…\n",
            "$ femalework_share         \u001b[3m\u001b[90m<dbl>\u001b[39m\u001b[23m 0.5286413, 0.5286413, 0.5286413, 0.5286413, 0…\n",
            "$ healthsoc_share          \u001b[3m\u001b[90m<dbl>\u001b[39m\u001b[23m 0.1930664, 0.1930664, 0.1930664, 0.1930664, 0…\n",
            "$ pub_defense_socins_share \u001b[3m\u001b[90m<dbl>\u001b[39m\u001b[23m 0.05180431, 0.05180431, 0.05180431, 0.0518043…\n",
            "$ post                     \u001b[3m\u001b[90m<dbl>\u001b[39m\u001b[23m 0, 0, 0, 0, 0, 0, 0, 0, 0, 0, 0, 0, 0, 0, 0, …\n",
            "$ quarters                 \u001b[3m\u001b[90m<dbl>\u001b[39m\u001b[23m 1, 2, 3, 4, 5, 6, 7, 8, 9, 10, 11, 12, 13, 14…\n"
          ]
        }
      ]
    },
    {
      "cell_type": "code",
      "metadata": {
        "id": "QrpDmCkumoPN"
      },
      "source": [
        ""
      ],
      "execution_count": null,
      "outputs": []
    }
  ]
}