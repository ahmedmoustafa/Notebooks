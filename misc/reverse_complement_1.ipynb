{
  "nbformat": 4,
  "nbformat_minor": 0,
  "metadata": {
    "colab": {
      "name": "reverse-complement-1.ipynb",
      "provenance": [],
      "authorship_tag": "ABX9TyNSIh80DtU72Jf4DbIxnpuY",
      "include_colab_link": true
    },
    "kernelspec": {
      "name": "python3",
      "display_name": "Python 3"
    },
    "language_info": {
      "name": "python"
    }
  },
  "cells": [
    {
      "cell_type": "markdown",
      "metadata": {
        "id": "view-in-github",
        "colab_type": "text"
      },
      "source": [
        "<a href=\"https://colab.research.google.com/github/ahmedmoustafa/Notebooks/blob/main/misc/reverse_complement_1.ipynb\" target=\"_parent\"><img src=\"https://colab.research.google.com/assets/colab-badge.svg\" alt=\"Open In Colab\"/></a>"
      ]
    },
    {
      "cell_type": "markdown",
      "source": [
        "# Reverse Complement\n",
        "\n",
        "Using what we have coverd so far about Python in the class, cacluate the reverse complement of the following DNA sequence:"
      ],
      "metadata": {
        "id": "TrY7AKUXSxvE"
      }
    },
    {
      "cell_type": "code",
      "execution_count": 1,
      "metadata": {
        "colab": {
          "base_uri": "https://localhost:8080/",
          "height": 35
        },
        "id": "ysA6dXmfSuX8",
        "outputId": "f7b3717c-d93b-4c2b-d74a-4836d06f92d2"
      },
      "outputs": [
        {
          "output_type": "execute_result",
          "data": {
            "application/vnd.google.colaboratory.intrinsic+json": {
              "type": "string"
            },
            "text/plain": [
              "'ACGGGAGGACGGGAAAATTACTACGGCATTAGC'"
            ]
          },
          "metadata": {},
          "execution_count": 1
        }
      ],
      "source": [
        "dna = 'ACGGGAGGACGGGAAAATTACTACGGCATTAGC'\n",
        "dna"
      ]
    },
    {
      "cell_type": "code",
      "source": [
        ""
      ],
      "metadata": {
        "id": "rd71CIcdTM81"
      },
      "execution_count": null,
      "outputs": []
    }
  ]
}