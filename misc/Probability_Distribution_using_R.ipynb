{
  "nbformat": 4,
  "nbformat_minor": 0,
  "metadata": {
    "kernelspec": {
      "display_name": "R",
      "language": "R",
      "name": "ir"
    },
    "language_info": {
      "codemirror_mode": "r",
      "file_extension": ".r",
      "mimetype": "text/x-r-source",
      "name": "R",
      "pygments_lexer": "r",
      "version": "3.3.1"
    },
    "colab": {
      "provenance": [],
      "collapsed_sections": [],
      "include_colab_link": true
    }
  },
  "cells": [
    {
      "cell_type": "markdown",
      "metadata": {
        "id": "view-in-github",
        "colab_type": "text"
      },
      "source": [
        "<a href=\"https://colab.research.google.com/github/ahmedmoustafa/Notebooks/blob/main/misc/Probability_Distribution_using_R.ipynb\" target=\"_parent\"><img src=\"https://colab.research.google.com/assets/colab-badge.svg\" alt=\"Open In Colab\"/></a>"
      ]
    },
    {
      "cell_type": "markdown",
      "source": [
        "# Probability Distribution using R"
      ],
      "metadata": {
        "id": "tUm7hiVFkAc6"
      }
    },
    {
      "cell_type": "markdown",
      "source": [
        "**Example.** A certain drug treatment cures 90% of cases of hookworm in children. Suppose that 20 children suffering from hookworm are to be treated, and that the children can be regarded as a random sample from the population. Find the probability that exactly 18 will be cured. (from lecture #4, slides #18). Using the R function [`dbinom`](https://www.geeksforgeeks.org/a-guide-to-dbinom-pbinom-qbinom-and-rbinom-in-r/):"
      ],
      "metadata": {
        "id": "cioCCS8nu6Rl"
      }
    },
    {
      "cell_type": "code",
      "source": [
        "dbinom(18, 20, 0.9)"
      ],
      "metadata": {
        "colab": {
          "base_uri": "https://localhost:8080/",
          "height": 34
        },
        "id": "WeLENxOZMpkm",
        "outputId": "821fc442-cf91-4087-eb83-cb053e95b673"
      },
      "execution_count": 1,
      "outputs": [
        {
          "output_type": "display_data",
          "data": {
            "text/html": [
              "0.285179807064298"
            ],
            "text/markdown": "0.285179807064298",
            "text/latex": "0.285179807064298",
            "text/plain": [
              "[1] 0.2851798"
            ]
          },
          "metadata": {}
        }
      ]
    },
    {
      "cell_type": "markdown",
      "source": [
        "Alternatively, as discussed in the class:"
      ],
      "metadata": {
        "id": "Ml_dNXBnvY-a"
      }
    },
    {
      "cell_type": "code",
      "source": [
        "dbinom(2, 20, 0.1)"
      ],
      "metadata": {
        "colab": {
          "base_uri": "https://localhost:8080/",
          "height": 34
        },
        "id": "MR_qssvrk7N3",
        "outputId": "5f955c3e-7f3b-4fe4-c2a4-fbd7c3f7fc04"
      },
      "execution_count": 2,
      "outputs": [
        {
          "output_type": "display_data",
          "data": {
            "text/html": [
              "0.285179807064298"
            ],
            "text/markdown": "0.285179807064298",
            "text/latex": "0.285179807064298",
            "text/plain": [
              "[1] 0.2851798"
            ]
          },
          "metadata": {}
        }
      ]
    },
    {
      "cell_type": "markdown",
      "source": [
        "**Example.** What is P(Z > 1.6)? (from lecture #5, slide #14). Using the R function [`pnorm`](https://www.geeksforgeeks.org/a-guide-to-dnorm-pnorm-rnorm-and-qnorm-in-r/):"
      ],
      "metadata": {
        "id": "dH9Sp5CLvghe"
      }
    },
    {
      "cell_type": "code",
      "source": [
        "1 - pnorm(1.6, 0, 1)"
      ],
      "metadata": {
        "colab": {
          "base_uri": "https://localhost:8080/",
          "height": 34
        },
        "id": "Dz-xezF6Pm6I",
        "outputId": "03196c81-721d-4bb1-e689-b614e27305b6"
      },
      "execution_count": 3,
      "outputs": [
        {
          "output_type": "display_data",
          "data": {
            "text/html": [
              "0.054799291699558"
            ],
            "text/markdown": "0.054799291699558",
            "text/latex": "0.054799291699558",
            "text/plain": [
              "[1] 0.05479929"
            ]
          },
          "metadata": {}
        }
      ]
    }
  ]
}