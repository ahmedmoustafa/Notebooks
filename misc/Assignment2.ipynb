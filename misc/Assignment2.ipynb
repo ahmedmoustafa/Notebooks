{
  "nbformat": 4,
  "nbformat_minor": 0,
  "metadata": {
    "kernelspec": {
      "display_name": "R",
      "language": "R",
      "name": "ir"
    },
    "language_info": {
      "codemirror_mode": "r",
      "file_extension": ".r",
      "mimetype": "text/x-r-source",
      "name": "R",
      "pygments_lexer": "r",
      "version": "3.3.1"
    },
    "colab": {
      "provenance": [],
      "collapsed_sections": [],
      "include_colab_link": true
    }
  },
  "cells": [
    {
      "cell_type": "markdown",
      "metadata": {
        "id": "view-in-github",
        "colab_type": "text"
      },
      "source": [
        "<a href=\"https://colab.research.google.com/github/ahmedmoustafa/Notebooks/blob/main/misc/Assignment2.ipynb\" target=\"_parent\"><img src=\"https://colab.research.google.com/assets/colab-badge.svg\" alt=\"Open In Colab\"/></a>"
      ]
    },
    {
      "cell_type": "markdown",
      "source": [
        "# Assignment #2"
      ],
      "metadata": {
        "id": "tUm7hiVFkAc6"
      }
    },
    {
      "cell_type": "code",
      "source": [
        "library(tidyverse)"
      ],
      "metadata": {
        "colab": {
          "base_uri": "https://localhost:8080/"
        },
        "id": "H3HMaux6iNRm",
        "outputId": "609dc7e4-473a-4c97-f65e-3f8f3814f307"
      },
      "execution_count": 1,
      "outputs": [
        {
          "output_type": "stream",
          "name": "stderr",
          "text": [
            "Warning message in system(\"timedatectl\", intern = TRUE):\n",
            "“running command 'timedatectl' had status 1”\n",
            "── \u001b[1mAttaching packages\u001b[22m ─────────────────────────────────────── tidyverse 1.3.1 ──\n",
            "\n",
            "\u001b[32m✔\u001b[39m \u001b[34mggplot2\u001b[39m 3.3.6      \u001b[32m✔\u001b[39m \u001b[34mpurrr  \u001b[39m 0.3.4 \n",
            "\u001b[32m✔\u001b[39m \u001b[34mtibble \u001b[39m 3.1.7      \u001b[32m✔\u001b[39m \u001b[34mdplyr  \u001b[39m 1.0.10\n",
            "\u001b[32m✔\u001b[39m \u001b[34mtidyr  \u001b[39m 1.2.1      \u001b[32m✔\u001b[39m \u001b[34mstringr\u001b[39m 1.4.1 \n",
            "\u001b[32m✔\u001b[39m \u001b[34mreadr  \u001b[39m 2.1.2      \u001b[32m✔\u001b[39m \u001b[34mforcats\u001b[39m 0.5.2 \n",
            "\n",
            "── \u001b[1mConflicts\u001b[22m ────────────────────────────────────────── tidyverse_conflicts() ──\n",
            "\u001b[31m✖\u001b[39m \u001b[34mdplyr\u001b[39m::\u001b[32mfilter()\u001b[39m masks \u001b[34mstats\u001b[39m::filter()\n",
            "\u001b[31m✖\u001b[39m \u001b[34mdplyr\u001b[39m::\u001b[32mlag()\u001b[39m    masks \u001b[34mstats\u001b[39m::lag()\n",
            "\n"
          ]
        }
      ]
    },
    {
      "cell_type": "code",
      "source": [
        "x = c(1.17, 2.50, 2.00, 2.33, 1.67, 1.33, 1.17, 2.17, 2.17, 1.33, 2.17, 2.00, 2.17, 1.17, 2.50, 2.00, 1.50, 1.50, 1.00, 2.17, 2.17, 1.67, 2.00, 2.00, 1.33, 2.17, 2.83, 1.50, 2.50, 2.33, 0.33, 2.17, 1.83, 2.00, 2.17, 2.00, 1.00, 2.17, 2.17, 1.33, 2.17, 2.50, 0.83, 1.17, 2.17, 2.50, 2.00, 2.50, 0.50, 1.50, 2.00, 2.00, 2.00, 2.00, 1.17, 1.33, 1.67, 2.17, 1.50, 2.00, 1.67, 0.33, 1.50, 2.17, 2.33, 2.33, 1.17, 0.00, 1.50, 2.33, 1.83, 2.67, 0.83, 1.17, 1.50, 2.17, 2.67, 1.50, 2.00, 2.17, 1.33, 2.00, 2.33, 2.00, 2.17, 2.17, 2.00, 2.17, 2.00, 2.17)"
      ],
      "metadata": {
        "id": "WeLENxOZMpkm"
      },
      "execution_count": 2,
      "outputs": []
    },
    {
      "cell_type": "code",
      "source": [
        "length(x)"
      ],
      "metadata": {
        "colab": {
          "base_uri": "https://localhost:8080/",
          "height": 34
        },
        "id": "DXPJQ-ZjcJCO",
        "outputId": "7236a672-c1cb-4221-914c-d7f0c9e9ec68"
      },
      "execution_count": 3,
      "outputs": [
        {
          "output_type": "display_data",
          "data": {
            "text/html": [
              "90"
            ],
            "text/markdown": "90",
            "text/latex": "90",
            "text/plain": [
              "[1] 90"
            ]
          },
          "metadata": {}
        }
      ]
    },
    {
      "cell_type": "code",
      "source": [
        "hist(x)"
      ],
      "metadata": {
        "colab": {
          "base_uri": "https://localhost:8080/",
          "height": 437
        },
        "id": "UifgpGLUjA2t",
        "outputId": "72a80188-180f-482f-dfe0-2cf0dfb3c512"
      },
      "execution_count": 4,
      "outputs": [
        {
          "output_type": "display_data",
          "data": {
            "text/plain": [
              "Plot with title “Histogram of x”"
            ],
            "image/png": "[encoded data removed]"
          },
          "metadata": {
            "image/png": {
              "width": 420,
              "height": 420
            }
          }
        }
      ]
    },
    {
      "cell_type": "code",
      "source": [
        "t1 = as.data.frame(table( cut(x, breaks = 6)))\n",
        "t1"
      ],
      "metadata": {
        "colab": {
          "base_uri": "https://localhost:8080/",
          "height": 286
        },
        "id": "CmilampzckJd",
        "outputId": "00bca835-f52c-4b13-9b33-50111ed551d4"
      },
      "execution_count": 5,
      "outputs": [
        {
          "output_type": "display_data",
          "data": {
            "text/html": [
              "<table class=\"dataframe\">\n",
              "<caption>A data.frame: 6 × 2</caption>\n",
              "<thead>\n",
              "\t<tr><th scope=col>Var1</th><th scope=col>Freq</th></tr>\n",
              "\t<tr><th scope=col>&lt;fct&gt;</th><th scope=col>&lt;int&gt;</th></tr>\n",
              "</thead>\n",
              "<tbody>\n",
              "\t<tr><td>(-0.00283,0.472]</td><td> 3</td></tr>\n",
              "\t<tr><td>(0.472,0.943]   </td><td> 3</td></tr>\n",
              "\t<tr><td>(0.943,1.42]    </td><td>15</td></tr>\n",
              "\t<tr><td>(1.42,1.89]     </td><td>15</td></tr>\n",
              "\t<tr><td>(1.89,2.36]     </td><td>45</td></tr>\n",
              "\t<tr><td>(2.36,2.83]     </td><td> 9</td></tr>\n",
              "</tbody>\n",
              "</table>\n"
            ],
            "text/markdown": "\nA data.frame: 6 × 2\n\n| Var1 &lt;fct&gt; | Freq &lt;int&gt; |\n|---|---|\n| (-0.00283,0.472] |  3 |\n| (0.472,0.943]    |  3 |\n| (0.943,1.42]     | 15 |\n| (1.42,1.89]      | 15 |\n| (1.89,2.36]      | 45 |\n| (2.36,2.83]      |  9 |\n\n",
            "text/latex": "A data.frame: 6 × 2\n\\begin{tabular}{ll}\n Var1 & Freq\\\\\n <fct> & <int>\\\\\n\\hline\n\t (-0.00283,0.472{]} &  3\\\\\n\t (0.472,0.943{]}    &  3\\\\\n\t (0.943,1.42{]}     & 15\\\\\n\t (1.42,1.89{]}      & 15\\\\\n\t (1.89,2.36{]}      & 45\\\\\n\t (2.36,2.83{]}      &  9\\\\\n\\end{tabular}\n",
            "text/plain": [
              "  Var1             Freq\n",
              "1 (-0.00283,0.472]  3  \n",
              "2 (0.472,0.943]     3  \n",
              "3 (0.943,1.42]     15  \n",
              "4 (1.42,1.89]      15  \n",
              "5 (1.89,2.36]      45  \n",
              "6 (2.36,2.83]       9  "
            ]
          },
          "metadata": {}
        }
      ]
    },
    {
      "cell_type": "code",
      "source": [
        "barplot(t1$Freq)"
      ],
      "metadata": {
        "colab": {
          "base_uri": "https://localhost:8080/",
          "height": 437
        },
        "id": "H95FVUn9h360",
        "outputId": "0a1ab35e-4988-45d2-8d80-125a1de6c44e"
      },
      "execution_count": 6,
      "outputs": [
        {
          "output_type": "display_data",
          "data": {
            "text/plain": [
              "plot without title"
            ],
            "image/png": "[encoded data removed]"
          },
          "metadata": {
            "image/png": {
              "width": 420,
              "height": 420
            }
          }
        }
      ]
    },
    {
      "cell_type": "code",
      "source": [
        "t2 = t1 %>% mutate (Relative = Freq / length(x))\n",
        "t2"
      ],
      "metadata": {
        "colab": {
          "base_uri": "https://localhost:8080/",
          "height": 286
        },
        "id": "LJlrLBUNiCzq",
        "outputId": "25343fab-4a18-4c17-b671-38c4d95e03fa"
      },
      "execution_count": 7,
      "outputs": [
        {
          "output_type": "display_data",
          "data": {
            "text/html": [
              "<table class=\"dataframe\">\n",
              "<caption>A data.frame: 6 × 3</caption>\n",
              "<thead>\n",
              "\t<tr><th scope=col>Var1</th><th scope=col>Freq</th><th scope=col>Relative</th></tr>\n",
              "\t<tr><th scope=col>&lt;fct&gt;</th><th scope=col>&lt;int&gt;</th><th scope=col>&lt;dbl&gt;</th></tr>\n",
              "</thead>\n",
              "<tbody>\n",
              "\t<tr><td>(-0.00283,0.472]</td><td> 3</td><td>0.03333333</td></tr>\n",
              "\t<tr><td>(0.472,0.943]   </td><td> 3</td><td>0.03333333</td></tr>\n",
              "\t<tr><td>(0.943,1.42]    </td><td>15</td><td>0.16666667</td></tr>\n",
              "\t<tr><td>(1.42,1.89]     </td><td>15</td><td>0.16666667</td></tr>\n",
              "\t<tr><td>(1.89,2.36]     </td><td>45</td><td>0.50000000</td></tr>\n",
              "\t<tr><td>(2.36,2.83]     </td><td> 9</td><td>0.10000000</td></tr>\n",
              "</tbody>\n",
              "</table>\n"
            ],
            "text/markdown": "\nA data.frame: 6 × 3\n\n| Var1 &lt;fct&gt; | Freq &lt;int&gt; | Relative &lt;dbl&gt; |\n|---|---|---|\n| (-0.00283,0.472] |  3 | 0.03333333 |\n| (0.472,0.943]    |  3 | 0.03333333 |\n| (0.943,1.42]     | 15 | 0.16666667 |\n| (1.42,1.89]      | 15 | 0.16666667 |\n| (1.89,2.36]      | 45 | 0.50000000 |\n| (2.36,2.83]      |  9 | 0.10000000 |\n\n",
            "text/latex": "A data.frame: 6 × 3\n\\begin{tabular}{lll}\n Var1 & Freq & Relative\\\\\n <fct> & <int> & <dbl>\\\\\n\\hline\n\t (-0.00283,0.472{]} &  3 & 0.03333333\\\\\n\t (0.472,0.943{]}    &  3 & 0.03333333\\\\\n\t (0.943,1.42{]}     & 15 & 0.16666667\\\\\n\t (1.42,1.89{]}      & 15 & 0.16666667\\\\\n\t (1.89,2.36{]}      & 45 & 0.50000000\\\\\n\t (2.36,2.83{]}      &  9 & 0.10000000\\\\\n\\end{tabular}\n",
            "text/plain": [
              "  Var1             Freq Relative  \n",
              "1 (-0.00283,0.472]  3   0.03333333\n",
              "2 (0.472,0.943]     3   0.03333333\n",
              "3 (0.943,1.42]     15   0.16666667\n",
              "4 (1.42,1.89]      15   0.16666667\n",
              "5 (1.89,2.36]      45   0.50000000\n",
              "6 (2.36,2.83]       9   0.10000000"
            ]
          },
          "metadata": {}
        }
      ]
    },
    {
      "cell_type": "code",
      "source": [
        "sum(t2$Relative)"
      ],
      "metadata": {
        "colab": {
          "base_uri": "https://localhost:8080/",
          "height": 34
        },
        "id": "1nWgGxnqiLJo",
        "outputId": "cf2df85d-b0d7-49e7-8cdb-843dd35dc92f"
      },
      "execution_count": 8,
      "outputs": [
        {
          "output_type": "display_data",
          "data": {
            "text/html": [
              "1"
            ],
            "text/markdown": "1",
            "text/latex": "1",
            "text/plain": [
              "[1] 1"
            ]
          },
          "metadata": {}
        }
      ]
    }
  ]
}